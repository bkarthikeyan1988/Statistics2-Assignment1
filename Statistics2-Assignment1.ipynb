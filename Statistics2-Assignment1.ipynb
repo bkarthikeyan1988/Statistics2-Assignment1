{
 "cells": [
  {
   "cell_type": "markdown",
   "metadata": {},
   "source": [
    "### Problem Statement 1:\n",
    "A test is conducted which is consisting of 20 MCQs (multiple choices questions) with\n",
    "every MCQ having its four options out of which only one is correct. Determine the\n",
    "probability that a person undertaking that test has answered exactly 5 questions wrong.\n",
    "\n",
    "\n",
    "Here, n = 20, n - k = 5, k = 20 - 5 = 15\n",
    "Here the probability of success = probability of giving a right answer = s = 1/4\n",
    "Hence, the probability of failure = probability of giving a wrong answer = 1 - s \n",
    "= 1 - 1/4 = 3/4\n",
    "When we substitute these values in the formula for Binomial distribution we get,\n",
    "\n",
    "So, P (exactly 5 out of 20 answers incorrect) = C (20, 5) * (1/4)^15 * (3/4)^5\n",
    "\n",
    "→ P (5 out of 20) = (20∗19∗18∗17∗16)/(5∗4∗3∗2∗1) * (1/4)^1 5 * (3/4)^5\n",
    "\n",
    "= 0.0000034 (approximately)\n",
    "\n",
    "Thus the required probability is 0.0000034 approximately."
   ]
  },
  {
   "cell_type": "code",
   "execution_count": 39,
   "metadata": {},
   "outputs": [
    {
     "data": {
      "text/plain": [
       "3.4264958230778575e-06"
      ]
     },
     "metadata": {},
     "output_type": "display_data"
    }
   ],
   "source": [
    "import numpy as np\n",
    "import pandas as pd\n",
    "import scipy.stats as stats\n",
    "\n",
    "# Total Number of Mulitiple Choices Questions[MCQ] => n\n",
    "n = 20\n",
    "\n",
    "# MCQ having its four options out of which only one is correct Probability of giving a right answer => s\n",
    "s = 1/4\n",
    "\n",
    "# Probability that a person answers 5 questions wrong n - k = 20 - 15 = 5\n",
    "x = 5\n",
    "\n",
    "# Probability of giving a wrong answer => [1 - s = 1 - 1/4 = 3/4]\n",
    "\n",
    "# Probability p = (exactly 5 out of 20 answers incorrect) = C (20, 5) * (1/4)^15 * (3/4)^5\n",
    "# Probability p = ((20*19) ∗ (18 ∗ 17) ∗ 16) / (5 ∗ 4 ∗ 3 ∗ 2 ∗ 1) * (1/4)^1 5 * (3/4)^5\n",
    "\n",
    "# 0.0000034 (approximately)\n",
    "\n",
    "p=(20*19*18*17*16)/(5*4*3*2*1)*(1/4)**15*(3/4)**5\n",
    "display(p)"
   ]
  },
  {
   "cell_type": "markdown",
   "metadata": {},
   "source": [
    "##### 3.4264958230778575e-06 = 0.0000034 Approx"
   ]
  },
  {
   "cell_type": "code",
   "execution_count": null,
   "metadata": {},
   "outputs": [],
   "source": []
  }
 ],
 "metadata": {
  "kernelspec": {
   "display_name": "Python 3",
   "language": "python",
   "name": "python3"
  },
  "language_info": {
   "codemirror_mode": {
    "name": "ipython",
    "version": 3
   },
   "file_extension": ".py",
   "mimetype": "text/x-python",
   "name": "python",
   "nbconvert_exporter": "python",
   "pygments_lexer": "ipython3",
   "version": "3.6.4"
  }
 },
 "nbformat": 4,
 "nbformat_minor": 2
}
